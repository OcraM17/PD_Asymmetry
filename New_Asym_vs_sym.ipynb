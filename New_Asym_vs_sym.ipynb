{
 "cells": [
  {
   "cell_type": "code",
   "execution_count": null,
   "metadata": {},
   "outputs": [],
   "source": [
    "import pandas as pd\n",
    "import numpy as np\n",
    "import matplotlib.pyplot as plt\n",
    "from scipy import stats\n",
    "from scipy.stats import sem\n",
    "import seaborn as sns\n",
    "import sklearn.linear_model as linear_model\n",
    "import sklearn.model_selection as model_selection\n",
    "import sklearn.metrics as metrics\n",
    "import warnings as warnings\n",
    "from sklearn import preprocessing\n",
    "from matplotlib.offsetbox import AnchoredText"
   ]
  },
  {
   "cell_type": "code",
   "execution_count": null,
   "metadata": {},
   "outputs": [],
   "source": [
    "%pwd"
   ]
  },
  {
   "cell_type": "code",
   "execution_count": null,
   "metadata": {},
   "outputs": [],
   "source": [
    "BL_all=pd.read_csv(\"../PPMI_Dataset/Evolution/PD_BaseLine_Features.csv\")\n",
    "BL_all.drop(columns=\"Unnamed: 0\",axis=1,inplace=True)\n",
    "V04=pd.read_csv(\"../PPMI_Dataset/Evolution/V04_Features.csv\")\n",
    "V04.drop(columns=\"Unnamed: 0\",axis=1,inplace=True)\n",
    "V06=pd.read_csv(\"../PPMI_Dataset/Evolution/V06_Features.csv\")\n",
    "V06.drop(columns=\"Unnamed: 0\",axis=1,inplace=True)\n",
    "V08=pd.read_csv(\"../PPMI_Dataset/Evolution/V08_Features.csv\")\n",
    "V08.drop(columns=\"Unnamed: 0\",axis=1,inplace=True)\n",
    "V10=pd.read_csv(\"../PPMI_Dataset/Evolution/V10_Features.csv\")\n",
    "V10.drop(columns=\"Unnamed: 0\",axis=1,inplace=True)\n",
    "V12=pd.read_csv(\"../PPMI_Dataset/Evolution/V12_Features.csv\")\n",
    "V12.drop(columns=\"Unnamed: 0\",axis=1,inplace=True)\n"
   ]
  },
  {
   "cell_type": "code",
   "execution_count": null,
   "metadata": {},
   "outputs": [],
   "source": []
  },
  {
   "cell_type": "code",
   "execution_count": null,
   "metadata": {},
   "outputs": [],
   "source": [
    "def scores(x,period):\n",
    "    mds_updrs4=pd.read_csv('../PPMI_Dataset/Motor_Assessments/MDS_UPDRS_Part_IV.csv')\n",
    "    \n",
    "    \n",
    "    df=x.iloc[:,np.r_[0,43:102,183]].copy()\n",
    "    \n",
    "    \n",
    "    mds_updrs4=mds_updrs4[mds_updrs4['EVENT_ID']==period]\n",
    "    \n",
    "    \n",
    "    df['Cognitive']=df.loc[:,['NP1COG','NP1HALL','NP1DPRS','NP1ANXS','NP1APAT','NP1DDS']].sum(axis=1,skipna=False)\n",
    "    df['Sleep']=df.loc[:,['NP1SLPN','NP1SLPD']].sum(axis=1,skipna=False)\n",
    "    df['Autonomic_Nervous_System']=df.loc[:,['NP1URIN','NP1CNST','NP1LTHD','NP1FATG']].sum(axis=1,skipna=False)\n",
    "    df['Total_UPDRS1']=df.loc[:,'NP1COG':'NP1FATG'].sum(axis=1,skipna=False)\n",
    "    \n",
    "    df['Bulbar']=df.loc[:,['NP2SPCH','NP2SALV','NP2SWAL','NP2EAT']].sum(axis=1,skipna=False)\n",
    "    df['Common_daily_act']= df.loc[:,['NP2DRES','NP2HYGN','NP2HWRT','NP2HOBB']].sum(axis=1,skipna=False)\n",
    "    df['Bed']=df.loc[:,['NP2TURN','NP2RISE']].sum(axis=1,skipna=False)\n",
    "    df['Gait']=df.loc[:,['NP2WALK','NP2FREZ']].sum(axis=1,skipna=False)\n",
    "    df['Total_UPDRS2']=df.loc[:,'NP2SPCH':'NP2FREZ'].sum(axis=1,skipna=False)\n",
    "    \n",
    "    \n",
    "    df['Axial_Sub_1']=df.loc[:,['NP3SPCH','NP3FACXP','NP3RIGN',\n",
    "                         'NP3RISNG','NP3GAIT','NP3FRZGT',\n",
    "                         'NP3PSTBL','NP3POSTR','NP3BRADY','NP3RTALJ']].sum(axis=1,skipna=False)\n",
    "    df['Axial_Sub_2']=df.loc[:,['NP3RISNG','NP3GAIT','NP3FRZGT',\n",
    "                         'NP3PSTBL','NP3POSTR','NP3BRADY']].sum(axis=1,skipna=False)\n",
    "    df['Limb_Rig_Sub']=df.loc[:,['NP3RIGRU','NP3RIGLU','PN3RIGRL','NP3RIGLL']].sum(axis=1,skipna=False)\n",
    "    df['Limb_Brady_Sub']=df.loc[:,['NP3FTAPR','NP3FTAPL','NP3HMOVR','NP3HMOVL',\n",
    "                                 'NP3PRSPR','NP3PRSPL','NP3TTAPR','NP3TTAPL',\n",
    "                                'NP3LGAGR','NP3LGAGL']].sum(axis=1,skipna=False)\n",
    "    df['Tremor_Sub']=df.loc[:,['NP3PTRMR','NP3PTRML','NP3KTRMR','NP3KTRML','NP3RTARU',\n",
    "                              'NP3RTALU','NP3RTARL','NP3RTALL','NP3RTCON']].sum(axis=1,skipna=False)\n",
    "    df['Rest_Tremor_Sub']=df.loc[:,['NP3RTARU','NP3RTALU','NP3RTARL','NP3RTALL','NP3RTCON']].sum(axis=1,skipna=False)\n",
    "    df['Append_Sub']=df.loc[:,['Limb_Rig_Sub','Limb_Brady_Sub','Tremor_Sub']].sum(axis=1,skipna=False)\n",
    "    df['Left_Motor_Score']=df.loc[:,['NP3RIGLU','NP3RIGLL','NP3FTAPL','NP3HMOVL',\n",
    "                                     'NP3PRSPL','NP3TTAPL','NP3LGAGL','NP3PTRML',\n",
    "                                     'NP3KTRML','NP3RTALU','NP3RTALL']].sum(axis=1,skipna=False)\n",
    "    #df['Left_Motor_Score']=df.loc[:,['NP3RIGLU','NP3RIGLL','NP3FTAPL','NP3HMOVL',\n",
    "    #                                'NP3PRSPL','NP3TTAPL','NP3LGAGL']].sum(axis=1,skipna=False)\n",
    "    \n",
    "    df['Right_Motor_Score']=df.loc[:,['NP3RIGRU','PN3RIGRL','NP3FTAPR','NP3HMOVR',\n",
    "                                      'NP3PRSPR','NP3TTAPR','NP3LGAGR','NP3PTRMR',\n",
    "                                      'NP3KTRMR','NP3RTARU','NP3RTARL']].sum(axis=1,skipna=False)\n",
    "    \n",
    "    #df['Right_Motor_Score']=df.loc[:,['NP3RIGRU','PN3RIGRL','NP3FTAPR','NP3HMOVR',\n",
    "    #                                 'NP3PRSPR','NP3TTAPR','NP3LGAGR']].sum(axis=1,skipna=False)\n",
    "    \n",
    "    df['Diff']=df['Left_Motor_Score']-df['Right_Motor_Score']\n",
    "    df['Asymmetry']=np.abs(df['Diff'])\n",
    "    df['Total_UPDRS3']=df.loc[:,'NP3SPCH':'NP3RTCON'].sum(axis=1,skipna=False)\n",
    "    #df['Total_UPDRS3']=df.loc[:,'NP3SPCH':'NP3BRADY'].sum(axis=1,skipna=False)\n",
    "    \n",
    "    df['Total_UPDRS']=df['Total_UPDRS1']+df['Total_UPDRS2']+df['Total_UPDRS3']\n",
    "    \n",
    "    \n",
    "    if mds_updrs4.empty==True:\n",
    "        df['Total_UPDRS4']=np.nan\n",
    "    else:\n",
    "        mds_updrs4['Total_UPDRS4']=mds_updrs4.loc[:,'NP4WDYSK':'NP4DYSTN'].sum(axis=1,skipna=False)\n",
    "        df=df.merge(mds_updrs4.loc[:,['PATNO','Total_UPDRS4']],on='PATNO',how='left')\n",
    "        \n",
    "    if period=='BL':\n",
    "        \n",
    "        temp=(df.loc[:,['NP2TRMR','NP3PTRMR',\n",
    "                                       'NP3PTRML','NP3KTRMR',\n",
    "                                       'NP3KTRML','NP3RTARU',\n",
    "                                       'NP3RTALU','NP3RTARL',\n",
    "                                       'NP3RTALL','NP3RTALJ',\n",
    "                                       'NP3RTCON']].mean(axis=1,skipna=False))/(df.loc[:,['NP2WALK','NP2FREZ','NP3GAIT',\n",
    "                                       'NP3FRZGT','NP3PSTBL']].mean(axis=1,skipna=False))\n",
    "        pigd=[]\n",
    "        for i in temp:\n",
    "            if i<=1:\n",
    "                pigd.append('PIGD')\n",
    "            elif i >=1.5:\n",
    "                pigd.append('TD')\n",
    "            elif i > 1 and i < 1.5:\n",
    "                pigd.append('IND')\n",
    "            else:\n",
    "                pigd.append('NOTA')\n",
    "        df['PIGD_TD']=pigd\n",
    "            \n",
    "    return df\n",
    "\n",
    "    \n",
    "\n",
    "    \n",
    "    \n",
    "    ############################# LEFT-RIGHT\n",
    "\"\"\"    \n",
    "    df['Limb_Rig_Left-Right']=(df['NP3RIGLU']+df['NP3RIGLL'])-(df['NP3RIGRU']+df['PN3RIGRL'])\n",
    "    \n",
    "    df['Upper_Limb_Rig']=df['NP3RIGRU']+df['NP3RIGLU']\n",
    "    \n",
    "    df['Lower_Limb_Rig']=df['PN3RIGRL']+df['NP3RIGLL']\n",
    "    \n",
    "    df['Upper_Limb_Rig_Left-Right']=df['NP3RIGLU']-df['NP3RIGRU']\n",
    "    \n",
    "    df['Lower_Limb_Rig_Left-Right']=df['NP3RIGLL']-df['PN3RIGRL']\n",
    "    \n",
    "    df['Fing_Tap_Total']=df.loc[:,['NP3FTAPR','NP3FTAPL']].sum(axis=1,skipna=False)\n",
    "    \n",
    "    df['Fing_Tap_Left-Right']=df['NP3FTAPL']-df['NP3FTAPR']\n",
    "    \n",
    "    df['Hand_Mov_Total']=df.loc[:,['NP3HMOVR','NP3HMOVL']].sum(axis=1,skipna=False)\n",
    "    \n",
    "    df['Hand_Mov_Left-Right']=df['NP3HMOVL']-df['NP3HMOVR']\n",
    "    \n",
    "    df['Pron_Sup_Total']=df.loc[:,['NP3PRSPR','NP3PRSPL']].sum(axis=1,skipna=False)\n",
    "    \n",
    "    df['Pron_Sup_Left-Right']=df['NP3PRSPL']-df['NP3PRSPR']\n",
    "    \n",
    "    df['Toe_Tapping_Total']=df.loc[:,['NP3TTAPR','NP3TTAPL']].sum(axis=1,skipna=False)\n",
    "    \n",
    "    df['Toe_Tapping_Left-Right']=df['NP3TTAPL']-df['NP3TTAPR']\n",
    "    \n",
    "    df['Leg_Agility_Total']=df.loc[:,['NP3LGAGR','NP3LGAGL']].sum(axis=1,skipna=False)\n",
    "    \n",
    "    df['Leg_Agility_Left-Right']=df['NP3LGAGL']-df['NP3LGAGR']\n",
    "    \n",
    "    df['Postural_Tremor_Total']=df.loc[:,['NP3PTRMR','NP3PTRML']].sum(axis=1,skipna=False)\n",
    "    \n",
    "    df['Postural_Tremor_Left-Right']=df['NP3PTRML']-df['NP3PTRMR']\n",
    "    \n",
    "    df['Kinetic_Tremor_Hand_Total']=df.loc[:,['NP3KTRMR','NP3KTRML']].sum(axis=1,skipna=False)\n",
    "    \n",
    "    df['Kinetic_Tremor_Hand_Left-Right']=df['NP3KTRML']-df['NP3KTRMR']\n",
    "    \n",
    "    df['Rest_Tremor_Upper_Total']=df.loc[:,['NP3RTARU','NP3RTALU']].sum(axis=1,skipna=False)\n",
    "    \n",
    "    df['Rest_Tremor_Upper_Left-Right']=df['NP3RTALU']-df['NP3RTARU']\n",
    "    \n",
    "    df['Rest_Tremor_Lower_Total']=df.loc[:,['NP3RTARL','NP3RTALL']].sum(axis=1,skipna=False)\n",
    "    \n",
    "    df['Rest_Tremor_Lower_Left-Right']=df['NP3RTALL']-df['NP3RTARL']\n",
    "    \n",
    "    df['Rest_Tremor_Left-Right']=(df['NP3RTALU']+df['NP3RTALL'])-(df['NP3RTARU']+df['NP3RTARL'])\n",
    "    \n",
    "\"\"\"    \n"
   ]
  },
  {
   "cell_type": "code",
   "execution_count": null,
   "metadata": {
    "scrolled": false
   },
   "outputs": [],
   "source": [
    "BL=scores(BL_all,'BL')\n",
    "year1=scores(V04,'V04')\n",
    "year2=scores(V06,'V06')\n",
    "year3=scores(V08,'V08')\n",
    "year4=scores(V10,'V10')\n",
    "year5=scores(V12,'V12')"
   ]
  },
  {
   "cell_type": "code",
   "execution_count": null,
   "metadata": {},
   "outputs": [],
   "source": []
  },
  {
   "cell_type": "code",
   "execution_count": null,
   "metadata": {},
   "outputs": [],
   "source": [
    "file=V12\n",
    "filenew=year5\n",
    "\n",
    "print('Age_Man',np.mean(file[file['gen']==1]['age']))\n",
    "print('STD_MAN',np.std(file[file['gen']==1]['age']))\n",
    "print('AGE_Woman',np.mean(file[file['gen']==2]['age']))\n",
    "print('STD_Woman',np.std(file[file['gen']==2]['age']))\n",
    "print('1',np.mean(filenew['Total_UPDRS1']))\n",
    "print('1_STD',np.std(filenew['Total_UPDRS1']))\n",
    "print('2',np.mean(filenew['Total_UPDRS2']))\n",
    "print('2_STD',np.std(filenew['Total_UPDRS2']))\n",
    "print('3',np.mean(filenew['Total_UPDRS3']))\n",
    "print('3_STD',np.std(filenew['Total_UPDRS3']))"
   ]
  },
  {
   "cell_type": "code",
   "execution_count": null,
   "metadata": {},
   "outputs": [],
   "source": [
    "plt.hist(BL['Axial_Sub_2'])\n",
    "#len(BL[BL['Asymmetry']>5])/423\n",
    "plt.xlabel('Axial Index')\n",
    "plt.ylabel('Patients number')\n",
    "plt.savefig('Axial_Dist')"
   ]
  },
  {
   "cell_type": "code",
   "execution_count": null,
   "metadata": {},
   "outputs": [],
   "source": [
    "from scipy.stats import mannwhitneyu\n",
    "x=[BL,year1,year3,year5]\n",
    "names=['BL','year1','year3','year5']\n",
    "#y=BL_all[BL_all['PATNO'].isin(x['PATNO'])]\n",
    "#pat=y[y['gen']==2]\n",
    "#pat\n",
    "for i in range(len(x)-1):\n",
    "    print(names[i],names[i+1])\n",
    "    print('Test on PartI:',mannwhitneyu(x[i]['Total_UPDRS1'].dropna(),x[i+1]['Total_UPDRS1'].dropna()))\n",
    "    print('Test on PartII:',mannwhitneyu(x[i]['Total_UPDRS2'].dropna(),x[i+1]['Total_UPDRS2'].dropna()))\n",
    "    print('Test on PartIII:',mannwhitneyu(x[i]['Total_UPDRS3'].dropna(),x[i+1]['Total_UPDRS3'].dropna()))"
   ]
  },
  {
   "cell_type": "code",
   "execution_count": null,
   "metadata": {},
   "outputs": [],
   "source": [
    "Left_Aff=BL[BL['Diff']>0]\n",
    "Right_Aff=BL[BL['Diff']<0]\n",
    "\n",
    "print(\"Left affected\",len(Left_Aff))\n",
    "print(\"Right affected\",len(Right_Aff))"
   ]
  },
  {
   "cell_type": "code",
   "execution_count": null,
   "metadata": {},
   "outputs": [],
   "source": [
    "####################################### MOST AFFECTED-LESS AFFECTED\n",
    "def affected(x):\n",
    "    df=x.copy()\n",
    "    \n",
    "    R=df[df['PATNO'].isin(Right_Aff['PATNO'])].copy()\n",
    "    L=df[df['PATNO'].isin(Left_Aff['PATNO'])].copy()\n",
    "    \n",
    "    \n",
    "    L['Limb_Rig_Most-Less']=(L['NP3RIGLU']+L['NP3RIGLL'])-(L['NP3RIGRU']+L['PN3RIGRL'])\n",
    "    R['Limb_Rig_Most-Less']=(R['NP3RIGRU']+R['PN3RIGRL'])-(R['NP3RIGLU']+R['NP3RIGLL'])\n",
    "    s=pd.concat([L,R])\n",
    "    s=s.sort_index(axis=0)\n",
    "    df['Limb_Rig_Most-Less']=s['Limb_Rig_Most-Less']\n",
    "\n",
    "    L['Upper_Limb_Rig_Most-Less']=L['NP3RIGLU']-L['NP3RIGRU']\n",
    "    R['Upper_Limb_Rig_Most-Less']=R['NP3RIGRU']-R['NP3RIGLU']\n",
    "    s=pd.concat([L,R])\n",
    "    s=s.sort_index(axis=0)\n",
    "    df['Upper_Limb_Rig_Most-Less']=s['Upper_Limb_Rig_Most-Less']\n",
    "    \n",
    "    \n",
    "    L['Lower_Limb_Rig_Most-Less']=L['NP3RIGLL']-L['PN3RIGRL']\n",
    "    R['Lower_Limb_Rig_Most-Less']=R['PN3RIGRL']-R['NP3RIGLL']\n",
    "    s=pd.concat([L,R])\n",
    "    s=s.sort_index(axis=0)\n",
    "    df['Lower_Limb_Rig_Most-Less']=s['Lower_Limb_Rig_Most-Less']\n",
    "    \n",
    "    L['Fing_Tap_Most-Less']=L['NP3FTAPL']-L['NP3FTAPR']\n",
    "    R['Fing_Tap_Most-Less']=R['NP3FTAPR']-R['NP3FTAPL']\n",
    "    s=pd.concat([L,R])\n",
    "    s=s.sort_index(axis=0)\n",
    "    df['Fing_Tap_Most-Less']=s['Fing_Tap_Most-Less']\n",
    "    \n",
    "    \n",
    "    L['Hand_Mov_Most-Less']=L['NP3HMOVL']-L['NP3HMOVR']\n",
    "    R['Hand_Mov_Most-Less']=R['NP3HMOVR']-R['NP3HMOVL']\n",
    "    s=pd.concat([L,R])\n",
    "    s=s.sort_index(axis=0)\n",
    "    df['Hand_Mov_Most-Less']=s['Hand_Mov_Most-Less']\n",
    "\n",
    "    L['Pron_Sup_Most-Less']=L['NP3PRSPL']-L['NP3PRSPR']\n",
    "    R['Pron_Sup_Most-Less']=R['NP3PRSPR']-R['NP3PRSPL']\n",
    "    s=pd.concat([L,R])\n",
    "    s=s.sort_index(axis=0)\n",
    "    df['Pron_Sup_Most-Less']=s['Pron_Sup_Most-Less']\n",
    "    \n",
    "    L['Toe_Tapping_Most-Less']=L['NP3TTAPL']-L['NP3TTAPR']\n",
    "    R['Toe_Tapping_Most-Less']=R['NP3TTAPR']-R['NP3TTAPL']\n",
    "    s=pd.concat([L,R])\n",
    "    s=s.sort_index(axis=0)\n",
    "    df['Toe_Tapping_Most-Less']=s['Toe_Tapping_Most-Less']\n",
    "    \n",
    "    L['Leg_Agility_Most-Less']=L['NP3LGAGL']-L['NP3LGAGR']\n",
    "    R['Leg_Agility_Most-Less']=R['NP3LGAGR']-R['NP3LGAGL']\n",
    "    s=pd.concat([L,R])\n",
    "    s=s.sort_index(axis=0)\n",
    "    df['Leg_Agility_Most-Less']=s['Leg_Agility_Most-Less']\n",
    "    \n",
    "    L['Postural_Tremor_Most-Less']=L['NP3PTRML']-L['NP3PTRMR']\n",
    "    R['Postural_Tremor_Most-Less']=R['NP3PTRMR']-R['NP3PTRML']\n",
    "    s=pd.concat([L,R])\n",
    "    s=s.sort_index(axis=0)\n",
    "    df['Postural_Tremor_Most-Less']=s['Postural_Tremor_Most-Less']\n",
    "    \n",
    "    L['Kinetic_Tremor_Hand_Most-Less']=L['NP3KTRML']-L['NP3KTRMR']\n",
    "    R['Kinetic_Tremor_Hand_Most-Less']=R['NP3KTRMR']-R['NP3KTRML']\n",
    "    s=pd.concat([L,R])\n",
    "    s=s.sort_index(axis=0)\n",
    "    df['Kinetic_Tremor_Hand_Most-Less']=s['Kinetic_Tremor_Hand_Most-Less']\n",
    "    \n",
    "    L['Rest_Tremor_Upper_Most-Less']=L['NP3RTALU']-L['NP3RTARU']\n",
    "    R['Rest_Tremor_Upper_Most-Less']=R['NP3RTARU']-R['NP3RTALU']\n",
    "    s=pd.concat([L,R])\n",
    "    s=s.sort_index(axis=0)\n",
    "    df['Rest_Tremor_Upper_Most-Less']=s['Rest_Tremor_Upper_Most-Less']\n",
    "    \n",
    "    L['Rest_Tremor_Lower_Most-Less']=L['NP3RTALL']-L['NP3RTARL']\n",
    "    R['Rest_Tremor_Lower_Most-Less']=R['NP3RTARL']-R['NP3RTALL']\n",
    "    s=pd.concat([L,R])\n",
    "    s=s.sort_index(axis=0)\n",
    "    df['Rest_Tremor_Lower_Most-Less']=s['Rest_Tremor_Lower_Most-Less']\n",
    "    \n",
    "    L['Rest_Tremor_Most-Less']=(L['NP3RTALU']+L['NP3RTALL'])-(L['NP3RTARU']+L['NP3RTARL'])\n",
    "    R['Rest_Tremor_Most-Less']=(R['NP3RTARU']+R['NP3RTARL'])-(R['NP3RTALU']+R['NP3RTALL'])\n",
    "    s=pd.concat([L,R])\n",
    "    s=s.sort_index(axis=0)\n",
    "    df['Rest_Tremor_Most-Less']=s['Rest_Tremor_Most-Less']\n",
    "    \n",
    "    return df\n",
    "    "
   ]
  },
  {
   "cell_type": "code",
   "execution_count": null,
   "metadata": {},
   "outputs": [],
   "source": [
    "BL=affected(BL)\n",
    "year1=affected(year1)\n",
    "year2=affected(year2)\n",
    "year3=affected(year3)\n",
    "year4=affected(year4)\n",
    "year5=affected(year5)"
   ]
  },
  {
   "cell_type": "code",
   "execution_count": null,
   "metadata": {},
   "outputs": [],
   "source": [
    "x="
   ]
  },
  {
   "cell_type": "markdown",
   "metadata": {},
   "source": [
    "# Rule 1\n",
    "### Diff≤2 : SYMMETRIC\n",
    "### 3 < Diff <7 and  axial>3: medium ASYMM with not so low axial\n",
    "### 3 < Diff <7 and   axial≤3: medium ASYMM with low axial\n",
    "### Diff≥7: Highly Asymm"
   ]
  },
  {
   "cell_type": "code",
   "execution_count": null,
   "metadata": {},
   "outputs": [],
   "source": [
    "\n",
    "Symm_Pat=BL[BL['Asymmetry']<=3]['PATNO']\n",
    "print(\"Symmetric:\",len(Symm_Pat))\n",
    "\n",
    "Medium_asym_nolow_ax=BL[(BL['Asymmetry']>3) & (BL['Asymmetry']<7)&\n",
    "                           (BL['Axial_Sub_2']>3)]['PATNO']\n",
    "\n",
    "print(\"Medium asym with not so low axial:\",len(Medium_asym_nolow_ax))\n",
    "\n",
    "\n",
    "Medium_Asymm_low_axial=BL[(BL['Asymmetry']>3) & (BL['Asymmetry']<7)\n",
    "                                            & (BL['Axial_Sub_2']<=3)]['PATNO']\n",
    "print(\"Medium asym with low axial:\",len(Medium_Asymm_low_axial))\n",
    "\n",
    "\n",
    "High_Asymm=BL[BL['Asymmetry']>= 7]['PATNO']\n",
    "print(\"Highly Asymmetric:\",len(High_Asymm))\n"
   ]
  },
  {
   "cell_type": "code",
   "execution_count": null,
   "metadata": {},
   "outputs": [],
   "source": [
    "p={'Group 1':57,'Group 2':30,'Group 3':86,'Group 4':250}\n",
    "plt.figure(figsize=(5,5))\n",
    "plt.bar(p.keys(),p.values())\n",
    "plt.xticks(rotation=45, ha=\"right\")\n",
    "plt.savefig('Axial')\n"
   ]
  },
  {
   "cell_type": "code",
   "execution_count": null,
   "metadata": {},
   "outputs": [],
   "source": [
    "Symm_Pat=BL[BL['Asymmetry']<=5]['PATNO']\n",
    "print(\"Symmetric:\",len(Symm_Pat))\n",
    "\n",
    "ASymm_Pat=BL[BL['Asymmetry']>5]['PATNO']\n",
    "print(\"Symmetric:\",len(ASymm_Pat))\n"
   ]
  },
  {
   "cell_type": "code",
   "execution_count": null,
   "metadata": {},
   "outputs": [],
   "source": [
    "warnings.filterwarnings('ignore')"
   ]
  },
  {
   "cell_type": "code",
   "execution_count": null,
   "metadata": {
    "scrolled": true
   },
   "outputs": [],
   "source": [
    "#pat_list=[Symm_Pat,Medium_asym_nolow_ax,Medium_Asymm_low_axial,High_Asymm]\n",
    "pat_list=[Symm_Pat,ASymm_Pat]\n",
    "years=[BL,year1,year2,year3,year4,year5]\n",
    "for i in BL.iloc[:,np.r_[1,2,3,32,34:83]].columns:\n",
    "    plt.figure(figsize=(10,5))\n",
    "    plt.title(i)\n",
    "    for j in pat_list:\n",
    "        avg=[]\n",
    "        serr=[]\n",
    "        for k in years:\n",
    "            patients=k[k['PATNO'].isin(j)][i]\n",
    "            patients=patients[~np.isnan(patients)].to_list()\n",
    "            avg.append(np.nanmean(patients))\n",
    "            serr.append(sem(patients))\n",
    "        a=[0]\n",
    "        avg=a+[i-avg[0] for i in avg[1:]]  \n",
    "        \n",
    "        plt.plot(['BL','1','2','3','4','5'],avg,'-o')\n",
    "        #plt.legend(['Symm','Medium_asym_nolow_ax','Medium_Asymm_low_axial','Highly Asymm'],loc='best')\n",
    "        plt.legend(['Symm','Asymm'],loc='best')\n",
    "        plt.fill_between(['BL','1','2','3','4','5'],np.array(avg)-np.array(serr),np.array(avg)+np.array(serr),alpha=0.2)\n",
    "        plt.ylabel('Difference of AVG from BL')\n",
    "        plt.xlabel('Years')\n",
    "    if i =='Total_UPDRS3':\n",
    "        plt.title('Motor Progression')\n",
    "        plt.savefig(i)\n",
    "    if i=='Total_UPDRS2':\n",
    "        plt.title('Progression of Disability')\n",
    "        plt.savefig(i)\n",
    "    if i =='Total_UPDRS1':\n",
    "        plt.title('Non-Motor Progression')\n",
    "        plt.savefig(i)\n",
    "        \n"
   ]
  },
  {
   "cell_type": "code",
   "execution_count": null,
   "metadata": {},
   "outputs": [],
   "source": [
    "100*(6.06-5.93)/((6.06+5.93)/2)"
   ]
  },
  {
   "cell_type": "code",
   "execution_count": null,
   "metadata": {},
   "outputs": [],
   "source": [
    "        \n",
    "fig,axs=plt.subplots(1,2,figsize=(30,7))     \n",
    "for j in pat_list:\n",
    "    avg=[]\n",
    "    serr=[]\n",
    "    avg2=[]\n",
    "    serr2=[]\n",
    "    \n",
    "    for k in years:\n",
    "        \n",
    "        patients=k[k['PATNO'].isin(j)]['Axial_Sub_2']\n",
    "        patients=patients[~np.isnan(patients)].to_list()\n",
    "        avg.append(np.nanmean(patients))\n",
    "        serr.append(sem(patients))\n",
    "\n",
    "        patients2=k[k['PATNO'].isin(j)]['Append_Sub']\n",
    "        patients2=patients2[~np.isnan(patients2)].to_list()\n",
    "        avg2.append(np.nanmean(patients2))\n",
    "        serr2.append(sem(patients2))\n",
    "            \n",
    "    a=[0]\n",
    "    avg=a+[i-avg[0] for i in avg[1:]] \n",
    "    \n",
    "    avg2=a+[i-avg2[0] for i in avg2[1:]] \n",
    "    \n",
    "    axs[0].plot(['BL','1','2','3','4','5'],avg,'-o')\n",
    "    axs[1].plot(['BL','1','2','3','4','5'],avg2,'-o')\n",
    "    axs[0].legend(['Symm','medium ASYMM with not so low axial','medium ASYMM with low axial','Highly Asymm'],loc='best')\n",
    "    axs[1].legend(['Symm','medium ASYMM with not so low axial','medium ASYMM with low axial','Highly Asymm'],loc='best')\n",
    "    axs[0].fill_between(['BL','1','2','3','4','5'],np.array(avg)-np.array(serr),np.array(avg)+np.array(serr),alpha=0.2)\n",
    "    axs[1].fill_between(['BL','1','2','3','4','5'],np.array(avg2)-np.array(serr2),np.array(avg2)+np.array(serr2),alpha=0.2)\n",
    "    axs[0].set_ylabel('Difference of AVG from BL')\n",
    "    axs[0].set_xlabel('Years')\n",
    "    axs[0].set_ylim(-2,11)\n",
    "    axs[0].set_title('Axial_Sub_2')\n",
    "    axs[1].set_title('Append_Sub')\n",
    "    axs[1].set_ylabel('Difference of AVG from BL')\n",
    "    axs[1].set_xlabel('Years')\n",
    "    axs[1].set_ylim(-2,11)\n",
    "    fig.tight_layout()\n",
    "    fig.suptitle('Axial vs Appendicular ')\n",
    "    fig.subplots_adjust()\n",
    "        "
   ]
  },
  {
   "cell_type": "code",
   "execution_count": null,
   "metadata": {},
   "outputs": [],
   "source": [
    "avg=[]\n",
    "serr=[]\n",
    "avg2=[]\n",
    "serr2=[]\n",
    "for k in years:\n",
    "    patients=k['Axial_Sub_2']\n",
    "    patients=patients[~np.isnan(patients)].to_list()\n",
    "    avg.append(np.nanmean(patients))\n",
    "    serr.append(sem(patients))\n",
    "    \n",
    "    patients2=k['Append_Sub']\n",
    "    patients2=patients2[~np.isnan(patients2)].to_list()\n",
    "    avg2.append(np.nanmean(patients2))\n",
    "    serr2.append(sem(patients2))\n",
    "    \n",
    "a=[0]\n",
    "avg=a+[i-avg[0] for i in avg[1:]] \n",
    "avg2=a+[i-avg2[0] for i in avg2[1:]] \n",
    "plt.figure(figsize=(10,5))\n",
    "plt.plot(['BL','1','2','3','4','5'],avg,'-o')\n",
    "plt.plot(['BL','1','2','3','4','5'],avg2,'-o')\n",
    "plt.legend(['Axial_Sub_2','Appendicular_sub'],loc='best')\n",
    "plt.title('De Novo Patients')"
   ]
  },
  {
   "cell_type": "code",
   "execution_count": null,
   "metadata": {},
   "outputs": [],
   "source": [
    "Hc_BL_all=pd.read_csv(\"Desktop/Thesis/PPMI_Dataset/Evolution/HC/HC_BL_Features.csv\")\n",
    "Hc_BL_all.drop(columns=\"Unnamed: 0\",axis=1,inplace=True)\n",
    "Hc_V04=pd.read_csv(\"Desktop/Thesis/PPMI_Dataset/Evolution/HC/HC_V04_Features.csv\")\n",
    "Hc_V04.drop(columns=\"Unnamed: 0\",axis=1,inplace=True)\n",
    "Hc_V06=pd.read_csv(\"Desktop/Thesis/PPMI_Dataset/Evolution/HC/HC_V06_Features.csv\")\n",
    "Hc_V06.drop(columns=\"Unnamed: 0\",axis=1,inplace=True)\n",
    "Hc_V08=pd.read_csv(\"Desktop/Thesis/PPMI_Dataset/Evolution/HC/HC_V08_Features.csv\")\n",
    "Hc_V08.drop(columns=\"Unnamed: 0\",axis=1,inplace=True)\n",
    "Hc_V10=pd.read_csv(\"Desktop/Thesis/PPMI_Dataset/Evolution/HC/HC_V10_Features.csv\")\n",
    "Hc_V10.drop(columns=\"Unnamed: 0\",axis=1,inplace=True)\n",
    "Hc_V12=pd.read_csv(\"Desktop/Thesis/PPMI_Dataset/Evolution/HC/HC_V12_Features.csv\")\n",
    "Hc_V12.drop(columns=\"Unnamed: 0\",axis=1,inplace=True)"
   ]
  },
  {
   "cell_type": "code",
   "execution_count": null,
   "metadata": {},
   "outputs": [],
   "source": [
    "Hc_BL=scores(Hc_BL_all,'HC')\n",
    "Hc_year1=scores(Hc_V04,'HC')\n",
    "Hc_year2=scores(Hc_V06,'HC')\n",
    "Hc_year3=scores(Hc_V08,'HC')\n",
    "Hc_year4=scores(Hc_V10,'HC')\n",
    "Hc_year5=scores(Hc_V12,'HC')\n"
   ]
  },
  {
   "cell_type": "code",
   "execution_count": null,
   "metadata": {},
   "outputs": [],
   "source": [
    "hc_years=[Hc_BL,Hc_year1,Hc_year2,Hc_year3,Hc_year4,Hc_year5]\n",
    "avg=[]\n",
    "serr=[]\n",
    "avg2=[]\n",
    "serr2=[]\n",
    "for k in hc_years:\n",
    "    patients=k['Axial_Sub_2']\n",
    "    patients=patients[~np.isnan(patients)].to_list()\n",
    "    avg.append(np.nanmean(patients))\n",
    "    serr.append(sem(patients))\n",
    "    \n",
    "    patients2=k['Append_Sub']\n",
    "    patients2=patients2[~np.isnan(patients2)].to_list()\n",
    "    avg2.append(np.nanmean(patients2))\n",
    "    serr2.append(sem(patients2))\n",
    "    \n",
    "a=[0]\n",
    "avg=a+[i-avg[0] for i in avg[1:]] \n",
    "avg2=a+[i-avg2[0] for i in avg2[1:]] \n",
    "plt.figure(figsize=(10,5))\n",
    "plt.plot(['BL','1','2','3','4','5'],avg,'-o')\n",
    "plt.plot(['BL','1','2','3','4','5'],avg2,'-o')\n",
    "plt.legend(['Axial_Sub_2','Appendicular_sub'],loc='best')\n",
    "plt.title('Healty Control')"
   ]
  },
  {
   "cell_type": "code",
   "execution_count": null,
   "metadata": {},
   "outputs": [],
   "source": [
    "from PIL import Image\n",
    "from sklearn.feature_selection import f_regression\n",
    "from statsmodels.regression.linear_model import OLS\n",
    "plt.rcParams.update({'font.size': 22})\n",
    "from statsmodels.formula.api import ols\n",
    "from statsmodels.stats.anova import anova_lm\n",
    "import statsmodels.api as sm\n",
    "\n",
    "def lin_reg(start,yr,var,year,start_period,part):\n",
    "    a=yr[np.isnan(yr[part])==False].reset_index()\n",
    "    a=a.iloc[:,1:]\n",
    "    temp=(a.loc[:,['PATNO',part]]).merge(start.loc[:,['PATNO',part]],on='PATNO',how='left',suffixes=('_'+year,'_BL'))\n",
    "    temp[year+'-BL']=temp[part+'_'+year]-temp[part+'_BL']\n",
    "    temp=temp.merge(start.loc[:,['PATNO',var]],on='PATNO',how='inner')\n",
    "    temp=temp.dropna()\n",
    "    y=temp[year+'-BL'].values\n",
    "    x=temp[var].values\n",
    "    f, ax = plt.subplots(1,1,figsize=(10,8))\n",
    "    ax.plot(x+np.random.randn(len(x)),y+np.random.randn(len(y)),color='darkgray',marker='.',linestyle='None')\n",
    "    ax.set_xlabel(var)\n",
    "    ax.set_ylabel(year+'- '+start_period+' '+part)\n",
    "    model=linear_model.LinearRegression()\n",
    "    model.fit(x.reshape(-1,1),y)\n",
    "    y_pred=(x.reshape(-1,1)*model.coef_+model.intercept_)\n",
    "    ax.plot(x,y_pred,'k-')\n",
    "    #plt.text(1,1,'R_Squared: '+str(np.round(metrics.r2_score(y,y_pred),4)))\n",
    "    anchored_text = AnchoredText('R\\N{SUPERSCRIPT TWO}= '+str(np.round(metrics.r2_score(y,y_pred),4)), loc=2)\n",
    "    ax.add_artist(anchored_text)\n",
    "    ax.set_ylim(-30,70)\n",
    "    #ax.grid()\n",
    "    if part=='Total_UPDRS3':\n",
    "        X2 = sm.add_constant(x)\n",
    "        est = OLS(y, X2)\n",
    "        est2 = est.fit()\n",
    "        print(est2.summary())\n",
    "        plt.xticks(np.arange(0,80,20))\n",
    "        ax.set_ylabel('Motor progression of PD at year 1')\n",
    "        ax.set_xlabel('DatSCAN asymmetry index')\n",
    "        #f.savefig('/Users/marco/Desktop/'+part+year+'.eps',format='eps')\n",
    "        \n",
    "        "
   ]
  },
  {
   "cell_type": "code",
   "execution_count": null,
   "metadata": {},
   "outputs": [],
   "source": []
  },
  {
   "cell_type": "markdown",
   "metadata": {},
   "source": [
    "# Prediction: Linear Rgression after 3 years\n",
    "## from the results obtained we can say that the progression of the motor symptoms of the disease doesn't depend linearly from the symmetric index i.e doesn't depend linearly from the asymmetry, the score of the whole updrs 3 at BL and from the Axial Subscore."
   ]
  },
  {
   "cell_type": "code",
   "execution_count": null,
   "metadata": {},
   "outputs": [],
   "source": [
    "BL['Asymmetry']\n",
    "x=pd.read_csv('../PPMI_Dataset/Subject_Characteristics/PPMI_Baseline_Data_02Jul2018.csv')\n",
    "x=x[x['APPRDX']==1]\n",
    "BL=BL.merge(x.loc[:,['PATNO','CAUDATE_L','CAUDATE_R','ai_caudate','ai_putamen','ai_striatum']],on='PATNO',how='left')\n",
    "BL\n",
    "\n"
   ]
  },
  {
   "cell_type": "code",
   "execution_count": null,
   "metadata": {},
   "outputs": [],
   "source": [
    "df=BL.loc[:,['PATNO','Total_UPDRS1','Total_UPDRS2','Total_UPDRS3','Asymmetry','ai_striatum']]\n",
    "df1=year1.loc[:,['PATNO','Total_UPDRS1','Total_UPDRS2','Total_UPDRS3']]\n",
    "df3=year3.loc[:,['PATNO','Total_UPDRS1','Total_UPDRS2','Total_UPDRS3']]\n",
    "df5=year5.loc[:,['PATNO','Total_UPDRS1','Total_UPDRS2','Total_UPDRS3']]\n",
    "df=df.merge(df1,on='PATNO',how='left',suffixes=(\"_BL\", \"_1yr\"))\n",
    "df=df.merge(df3,on='PATNO',how='left')\n",
    "df=df.merge(df5,on='PATNO',how='left',suffixes=(\"_3yr\", \"_5yr\"))\n",
    "df"
   ]
  },
  {
   "cell_type": "code",
   "execution_count": null,
   "metadata": {},
   "outputs": [],
   "source": [
    "ppp=df.iloc[:,[0,4,5,-9,-8,-7,-6,-5,-4,-3,-2,-1]]\n",
    "pr=ppp.loc[:,['ai_striatum','3yr-BL_UPDRS3']].dropna()\n",
    "x=pr[pr['ai_striatum']!='.']['ai_striatum']\n",
    "y=pr['3yr-BL_UPDRS3']\n",
    "print(x)\n",
    "X2 = sm.add_constant(x)\n",
    "est = OLS(y, X2)\n",
    "est2 = est.fit()\n",
    "print(est2.summary())\n"
   ]
  },
  {
   "cell_type": "code",
   "execution_count": null,
   "metadata": {},
   "outputs": [],
   "source": [
    "plt.hist(BL['Asymmetry']/(BL['Left_Motor_Score']+BL['Right_Motor_Score']))\n",
    "plt.xlabel('Normalized asymmetry')\n",
    "plt.ylabel('Patients number')"
   ]
  },
  {
   "cell_type": "code",
   "execution_count": null,
   "metadata": {},
   "outputs": [],
   "source": [
    "x=pd.read_csv('Desktop/DATScan_Analysis.csv')\n",
    "x[x['PATNO']==4124]"
   ]
  },
  {
   "cell_type": "code",
   "execution_count": null,
   "metadata": {
    "scrolled": false
   },
   "outputs": [],
   "source": [
    "BL['ai_caudate']=BL['ai_caudate'].replace('.',np.nan)\n",
    "BL['ai_caudate']=BL['ai_caudate'].astype('float64')\n",
    "BL['ai_striatum']=BL['ai_striatum'].replace('.',np.nan)\n",
    "BL['ai_striatum']=BL['ai_striatum'].astype('float64')\n",
    "BL['ai_putamen']=BL['ai_putamen'].replace('.',np.nan)\n",
    "BL['ai_putamen']=BL['ai_putamen'].astype('float64')\n",
    "for i in BL.iloc[:,61:82].columns:\n",
    "    lin_reg(BL,year5,'ai_striatum','5yr','BL',i)\n",
    "\n",
    "    \n"
   ]
  },
  {
   "cell_type": "code",
   "execution_count": null,
   "metadata": {},
   "outputs": [],
   "source": [
    "from scipy.stats import pearsonr\n",
    "plt.figure()\n",
    "plt.scatter(BL['ai_striatum'],BL['Asymmetry'])\n",
    "a=BL.loc[:,['ai_striatum','Asymmetry']].dropna()\n",
    "print(pearsonr(a['ai_striatum'],a['Asymmetry']))\n",
    "\n",
    "plt.figure()\n",
    "plt.scatter(BL['ai_caudate'],BL['Asymmetry'])\n",
    "a=BL.loc[:,['ai_caudate','Asymmetry']].dropna()\n",
    "print(pearsonr(a['ai_caudate'],a['Asymmetry']))\n",
    "\n",
    "plt.figure()\n",
    "plt.scatter(BL['ai_putamen'],BL['Asymmetry'])\n",
    "a=BL.loc[:,['ai_putamen','Asymmetry']].dropna()\n",
    "print(pearsonr(a['ai_putamen'],a['Asymmetry']))"
   ]
  },
  {
   "cell_type": "code",
   "execution_count": null,
   "metadata": {},
   "outputs": [],
   "source": [
    "lin_reg(BL,year5,'Abs_Diff_part3','5yr','BL','Total_UPDRS3')"
   ]
  },
  {
   "cell_type": "code",
   "execution_count": null,
   "metadata": {},
   "outputs": [],
   "source": [
    "lin_reg(BL,year5,'Total_UPDRS3','3yr','BL','MCATOT')"
   ]
  },
  {
   "cell_type": "code",
   "execution_count": null,
   "metadata": {},
   "outputs": [],
   "source": [
    "lin_reg(BL,year5,'Axial_Sub_2','3yr','2yr','MCATOT')\n"
   ]
  },
  {
   "cell_type": "markdown",
   "metadata": {},
   "source": [
    "# Prediction: Linear Rgression after 5 years\n",
    "## from the results obtained we can say that the progression of the motor symptoms of the disease doesn't depend linearly from the symmetric index i.e doesn't depend linearly from the asymmetry, the score of the whole updrs 3 at BL and from the Axial Subscore."
   ]
  },
  {
   "cell_type": "code",
   "execution_count": null,
   "metadata": {},
   "outputs": [],
   "source": [
    "lin_reg(BL,year5,'Abs_Diff_part3','5yr','MCATOT')"
   ]
  },
  {
   "cell_type": "code",
   "execution_count": null,
   "metadata": {},
   "outputs": [],
   "source": [
    "lin_reg(BL,year5,'Total_UPDRS3','5yr','Total_UPDRS3')"
   ]
  },
  {
   "cell_type": "code",
   "execution_count": null,
   "metadata": {},
   "outputs": [],
   "source": [
    "lin_reg(BL,year5,'Axial_Sub_2','5yr','MCATOT')"
   ]
  },
  {
   "cell_type": "markdown",
   "metadata": {},
   "source": [
    "## I tried also iterative methods like SGD or GD to fit the parameter, but clearly is not linear. \n",
    "# Combination of two or more variables"
   ]
  },
  {
   "cell_type": "code",
   "execution_count": null,
   "metadata": {},
   "outputs": [],
   "source": [
    "def Multi_var_lin_reg(start,yr,var,year,part):\n",
    "    \n",
    "    \n",
    "    \n",
    "    a=yr[np.isnan(yr[part])==False].reset_index()\n",
    "    a=a.iloc[:,1:]\n",
    "    temp=(a.loc[:,['PATNO',part]]).merge(start.loc[:,['PATNO',part]],on='PATNO',how='left',suffixes=('_'+year,'_BL'))\n",
    "    temp[year+'-BL']=temp[part+'_'+year]-temp[part+'_BL']\n",
    "    temp=temp.merge(start.loc[:,['PATNO']+var],on='PATNO',how='left')\n",
    "    temp=temp.dropna()\n",
    "    y=temp[year+'-BL']\n",
    "    x=temp[var]\n",
    "    \n",
    "    \n",
    "    X_train, X_test, y_train, y_test=model_selection.train_test_split(x,y,test_size=0.2,shuffle=True)\n",
    "    model=linear_model.LinearRegression()\n",
    "    model.fit(X_train,y_train)\n",
    "    y_pred=model.predict(X_test)\n",
    "    print('MSE:',metrics.mean_squared_error(y_test,y_pred))"
   ]
  },
  {
   "cell_type": "markdown",
   "metadata": {},
   "source": [
    "## 3 Years Linear Regression multivariable"
   ]
  },
  {
   "cell_type": "code",
   "execution_count": null,
   "metadata": {},
   "outputs": [],
   "source": [
    "Multi_var_lin_reg(BL,year5,['Abs_Diff_part3','Total_UPDRS3'],'3yr','MCATOT')\n",
    "Multi_var_lin_reg(BL,year5,['Abs_Diff_part3','Axial_Sub_2'],'3yr','MCATOT')\n",
    "Multi_var_lin_reg(BL,year5,['Total_UPDRS3','Axial_Sub_2'],'3yr','MCATOT')\n",
    "Multi_var_lin_reg(BL,year5,['Total_UPDRS3','Axial_Sub_2','Abs_Diff_part3'],'3yr','MCATOT')"
   ]
  },
  {
   "cell_type": "markdown",
   "metadata": {},
   "source": [
    "## 5 Years Linear Regression multivariable"
   ]
  },
  {
   "cell_type": "code",
   "execution_count": null,
   "metadata": {},
   "outputs": [],
   "source": [
    "Multi_var_lin_reg(BL,year5,['Abs_Diff_part3','Total_UPDRS3'],'5yr','Total_UPDRS3')\n",
    "Multi_var_lin_reg(BL,year5,['Abs_Diff_part3','Axial_Sub_2'],'5yr','Total_UPDRS3')\n",
    "Multi_var_lin_reg(BL,year5,['Total_UPDRS3','Axial_Sub_2'],'5yr','Total_UPDRS3')\n",
    "Multi_var_lin_reg(BL,year5,['Total_UPDRS3','Axial_Sub_2','Abs_Diff_part3'],'5yr','Total_UPDRS3')"
   ]
  },
  {
   "cell_type": "code",
   "execution_count": null,
   "metadata": {},
   "outputs": [],
   "source": [
    "Multi_var_lin_reg(BL,year3,['Abs_Diff_part3','Total_UPDRS3'],'3yr','MCATOT')\n",
    "Multi_var_lin_reg(BL,year3,['Abs_Diff_part3','Axial_Sub_2'],'3yr','MCATOT')\n",
    "Multi_var_lin_reg(BL,year3,['Total_UPDRS3','Axial_Sub_2'],'3yr','MCATOT')\n",
    "Multi_var_lin_reg(BL,year3,['Total_UPDRS3','Axial_Sub_2','Abs_Diff_part3'],'3yr','MCATOT')"
   ]
  },
  {
   "cell_type": "markdown",
   "metadata": {},
   "source": [
    "# PIGD and TD"
   ]
  },
  {
   "cell_type": "code",
   "execution_count": null,
   "metadata": {},
   "outputs": [],
   "source": [
    "year=year3\n",
    "for var in BL.iloc[:,61:82].columns:\n",
    "\n",
    "    pigd=BL[BL['PIGD_TD']=='PIGD']\n",
    "    td=BL[BL['PIGD_TD']=='TD']\n",
    "    ind=BL[BL['PIGD_TD']=='IND']\n",
    "\n",
    "    pigd['Asymmetry']\n",
    "    pigd_yr=year[year['PATNO'].isin(pigd['PATNO'])].loc[:,['PATNO',var]].dropna()\n",
    "    td_yr=year[year['PATNO'].isin(td['PATNO'])].loc[:,['PATNO',var]].dropna()\n",
    "    ind_yr=year[year['PATNO'].isin(ind['PATNO'])].loc[:,['PATNO',var]].dropna()\n",
    "\n",
    "\n",
    "\n",
    "\n",
    "    pigd_BL=BL[BL['PATNO'].isin(pigd_yr['PATNO'])][var]\n",
    "    td_BL=BL[BL['PATNO'].isin(td_yr['PATNO'])][var]\n",
    "    ind_BL=BL[BL['PATNO'].isin(ind_yr['PATNO'])][var]\n",
    "\n",
    "\n",
    "    td_prog=(td_yr[var].to_numpy()-td_BL.to_numpy())\n",
    "    pigd_prog=(pigd_yr[var].to_numpy()-pigd_BL.to_numpy())\n",
    "    ind_prog=(ind_yr[var].to_numpy()-ind_BL.to_numpy())\n",
    "\n",
    "    print(var+'\\n')\n",
    "    print('PIGD vs TD')\n",
    "    print(stats.kruskal(pigd_prog,td_prog))\n",
    "    print('TD vs IND')\n",
    "    print(stats.kruskal(td_prog,ind_prog))\n",
    "    print('IND vs PIGD')\n",
    "    print(stats.kruskal(ind_prog,pigd_prog))\n",
    "    print('\\n')\n"
   ]
  },
  {
   "cell_type": "code",
   "execution_count": null,
   "metadata": {},
   "outputs": [],
   "source": [
    "x=pd.read_csv('Desktop/Thesis/PPMI_Dataset/Motor_Assessments/MDS_UPDRS_Part_I.csv')\n",
    "x=x[x['PATNO'].isin(BL['PATNO'])]\n",
    "x=x[x['EVENT_ID']=='V05']\n",
    "x\n",
    "#year2['Total_UPDRS1']"
   ]
  },
  {
   "cell_type": "code",
   "execution_count": null,
   "metadata": {},
   "outputs": [],
   "source": [
    "\n",
    "FILE = \"Desktop/New_Asym_vs_sym.html\"\n",
    "\n",
    "with open(FILE, 'r') as html_file:\n",
    "    content = html_file.read()\n",
    "\n",
    "# Get rid off prompts and source code\n",
    "content = content.replace(\"div.input_area {\",\"div.input_area {\\n\\tdisplay: none;\")    \n",
    "content = content.replace(\".prompt {\",\".prompt {\\n\\tdisplay: none;\")\n",
    "\n",
    "f = open(FILE, 'w')\n",
    "f.write(content)\n",
    "f.close()"
   ]
  }
 ],
 "metadata": {
  "kernelspec": {
   "display_name": "Python 3",
   "language": "python",
   "name": "python3"
  },
  "language_info": {
   "codemirror_mode": {
    "name": "ipython",
    "version": 3
   },
   "file_extension": ".py",
   "mimetype": "text/x-python",
   "name": "python",
   "nbconvert_exporter": "python",
   "pygments_lexer": "ipython3",
   "version": "3.8.2"
  }
 },
 "nbformat": 4,
 "nbformat_minor": 4
}
